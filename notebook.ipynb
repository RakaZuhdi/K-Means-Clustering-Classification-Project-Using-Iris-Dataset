{
 "cells": [
  {
   "metadata": {},
   "cell_type": "markdown",
   "source": [
    "# This is a K-Means Classification Project\n",
    "\n",
    "The aim of this project is to use K-Means Clustering algorithm to group Iris Flowers into 3 clusters using just two (sepal length and petal length). After clustering, map each cluster to a class label (setosa, versicolor, and virginica) by majority vote on a small labeled validation split, and report accuracy on a held-out test set.\n",
    "\n",
    "Important: K-Means doesn't use labels to learn. We only use labels after clustering to evaluate and to map clusters -> class names."
   ],
   "id": "8a77807f92f26ee"
  },
  {
   "metadata": {},
   "cell_type": "markdown",
   "source": "Import the necessary libraries:",
   "id": "a1e3643a129f281f"
  },
  {
   "metadata": {
    "ExecuteTime": {
     "end_time": "2025-09-19T03:46:29.484536Z",
     "start_time": "2025-09-19T03:46:29.481571Z"
    }
   },
   "cell_type": "code",
   "source": [
    "import numpy as np\n",
    "import pandas as pd\n",
    "import matplotlib as plt\n",
    "import sklearn\n",
    "from sklearn.model_selection import train_test_split\n",
    "\n",
    "print('Imported necessary libraries')\n"
   ],
   "id": "fbc121e30a2defb3",
   "outputs": [
    {
     "name": "stdout",
     "output_type": "stream",
     "text": [
      "Imported necessary libraries\n"
     ]
    }
   ],
   "execution_count": 149
  },
  {
   "metadata": {},
   "cell_type": "markdown",
   "source": [
    "Split labes into three randomly:\n",
    "- training (60%)\n",
    "- validation (20%)\n",
    "- test (20%)\n",
    "\n"
   ],
   "id": "51c5f172462a21f3"
  },
  {
   "metadata": {
    "ExecuteTime": {
     "end_time": "2025-09-19T03:46:29.499449Z",
     "start_time": "2025-09-19T03:46:29.494247Z"
    }
   },
   "cell_type": "code",
   "source": [
    "dataset = sklearn.datasets.load_iris()\n",
    "\n",
    "X, y = dataset.data, dataset.target\n",
    "\n",
    "#First split\n",
    "X_train, X_temp, y_train, y_temp = train_test_split( #Syntax to split the dataset\n",
    "    X, y, test_size = 0.4, random_state = 42, stratify = y #X (dataset), y (target), test_size (40%), random state (seed, so it keeps the same value when randomized), stratify (keeps the same proportions dependent on the label, which is y)\n",
    ")\n",
    "\n",
    "#Second split\n",
    "X_validation, X_test, y_validation, y_test = train_test_split(\n",
    "    X_temp, y_temp, test_size = 0.5, random_state = 42, stratify = y_temp\n",
    ")\n",
    "\n",
    "print('Training size: ', len(X_train))\n",
    "print('Validation size: ',len(X_validation))\n",
    "print('Test size: ', len(X_test))\n",
    "\n",
    "print('Validation labels: ', y_validation)\n",
    "\n"
   ],
   "id": "2cf7eb898073e66d",
   "outputs": [
    {
     "name": "stdout",
     "output_type": "stream",
     "text": [
      "Training size:  90\n",
      "Validation size:  30\n",
      "Test size:  30\n",
      "Validation labels:  [2 0 2 1 1 1 2 0 2 0 0 2 1 2 1 2 1 2 2 0 0 0 2 0 1 0 1 1 0 1]\n"
     ]
    }
   ],
   "execution_count": 150
  },
  {
   "metadata": {},
   "cell_type": "markdown",
   "source": "Choose K. For this example, 3 is the most sensible because there are three types of target.",
   "id": "d903fde3e189a216"
  },
  {
   "metadata": {
    "ExecuteTime": {
     "end_time": "2025-09-19T03:46:29.504052Z",
     "start_time": "2025-09-19T03:46:29.502647Z"
    }
   },
   "cell_type": "code",
   "source": "K = 3",
   "id": "f1ab20afc0a013a2",
   "outputs": [],
   "execution_count": 151
  },
  {
   "metadata": {},
   "cell_type": "markdown",
   "source": [
    "Run K-Means on the train set\n",
    "- Fit K-Means with k = 3, random_state fixed for reproducibility\n",
    "\n",
    "We should get:\n",
    "- Cluster centers (shape 3 x 4)\n",
    "- A cluster id (0,1,2) for every sample"
   ],
   "id": "46b1f4049f8dbc86"
  },
  {
   "metadata": {
    "ExecuteTime": {
     "end_time": "2025-09-19T03:46:29.514371Z",
     "start_time": "2025-09-19T03:46:29.510739Z"
    }
   },
   "cell_type": "code",
   "source": [
    "from sklearn.cluster import KMeans\n",
    "\n",
    "kmeans = KMeans(n_clusters=K, random_state=42)\n",
    "\n",
    "kmeans.fit(X_train)\n",
    "\n",
    "centroids = kmeans.cluster_centers_\n",
    "\n",
    "print(\"centroids: \", centroids)"
   ],
   "id": "59d22ac559b07bf0",
   "outputs": [
    {
     "name": "stdout",
     "output_type": "stream",
     "text": [
      "centroids:  [[4.98666667 3.43666667 1.48666667 0.24      ]\n",
      " [6.96363636 3.16363636 5.84090909 2.09090909]\n",
      " [5.92894737 2.71315789 4.42894737 1.45      ]]\n"
     ]
    }
   ],
   "execution_count": 152
  },
  {
   "metadata": {},
   "cell_type": "markdown",
   "source": [
    "Build the cluster -> class label map (using validation set)\n",
    "- Predict cluster ids for validation samples.\n",
    "- For each cluster id, find which true class appears most among its val members -> that is the mapped class for that cluster.\n",
    "- Example: cluster 0 contains mostly setosa, so map cluster 0 -> setosa."
   ],
   "id": "497487fe4f3ecdaa"
  },
  {
   "metadata": {
    "ExecuteTime": {
     "end_time": "2025-09-19T03:46:29.524597Z",
     "start_time": "2025-09-19T03:46:29.522068Z"
    }
   },
   "cell_type": "code",
   "source": [
    "def calculate_ordered_match_percentage(arr1, arr2):\n",
    "    if len(arr1) != len(arr2):\n",
    "        print(\"Arrays must have the same length for ordered comparison.\")\n",
    "        return 0.0\n",
    "\n",
    "    matching_elements = 0\n",
    "\n",
    "    for i in range(len(arr1)):\n",
    "        if arr1[i] == arr2[i]:\n",
    "            matching_elements += 1\n",
    "\n",
    "    return (matching_elements / len(arr1)) * 100.0\n",
    "\n",
    "\n",
    "labels = kmeans.predict(X_validation)\n",
    "print('Validation accuracy: ', calculate_ordered_match_percentage(y_validation, labels))\n",
    "\n",
    "print('Validation array: ', y_validation)\n",
    "print('Predicted with validation array: ', labels)"
   ],
   "id": "13a2c9533bfca4e5",
   "outputs": [
    {
     "name": "stdout",
     "output_type": "stream",
     "text": [
      "Validation accuracy:  43.333333333333336\n",
      "Validation array:  [2 0 2 1 1 1 2 0 2 0 0 2 1 2 1 2 1 2 2 0 0 0 2 0 1 0 1 1 0 1]\n",
      "Predicted with validation array:  [2 0 1 2 2 2 1 0 1 0 0 1 2 1 2 1 2 1 2 0 0 0 1 0 2 0 2 1 0 2]\n"
     ]
    }
   ],
   "execution_count": 153
  },
  {
   "metadata": {},
   "cell_type": "markdown",
   "source": "Predict using the test set",
   "id": "7f5bb3dec38141f7"
  },
  {
   "metadata": {
    "ExecuteTime": {
     "end_time": "2025-09-19T03:46:29.530491Z",
     "start_time": "2025-09-19T03:46:29.528712Z"
    }
   },
   "cell_type": "code",
   "source": [
    "final_prediction = kmeans.predict(X_test)\n",
    "\n",
    "print('Test prediction accuracy: ', calculate_ordered_match_percentage(y_test, final_prediction))"
   ],
   "id": "b03045706467a9cf",
   "outputs": [
    {
     "name": "stdout",
     "output_type": "stream",
     "text": [
      "Test prediction accuracy:  46.666666666666664\n"
     ]
    }
   ],
   "execution_count": 154
  }
 ],
 "metadata": {
  "kernelspec": {
   "display_name": "Python 3",
   "language": "python",
   "name": "python3"
  },
  "language_info": {
   "codemirror_mode": {
    "name": "ipython",
    "version": 2
   },
   "file_extension": ".py",
   "mimetype": "text/x-python",
   "name": "python",
   "nbconvert_exporter": "python",
   "pygments_lexer": "ipython2",
   "version": "2.7.6"
  }
 },
 "nbformat": 4,
 "nbformat_minor": 5
}
