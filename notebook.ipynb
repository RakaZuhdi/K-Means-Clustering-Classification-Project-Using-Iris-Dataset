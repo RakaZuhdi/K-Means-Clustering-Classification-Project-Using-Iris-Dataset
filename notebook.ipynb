{
 "cells": [
  {
   "metadata": {},
   "cell_type": "markdown",
   "source": [
    "# This is a K-Means Classification Project\n",
    "\n",
    "The aim of this project is to use K-Means Clustering algorithm to group Iris Flowers into 3 clusters using just two (sepal length and petal length). After clustering, map each cluster to a class label (setosa, versicolor, and virginica) by majority vote on a small labeled validation split, and report accuracy on a held-out test set.\n",
    "\n",
    "Important: K-Means doesn't use labels to learn. We only use labels after clustering to evaluate and to map clusters -> class names."
   ],
   "id": "8a77807f92f26ee"
  },
  {
   "metadata": {},
   "cell_type": "markdown",
   "source": "Import the necessary libraries:",
   "id": "a1e3643a129f281f"
  },
  {
   "metadata": {
    "ExecuteTime": {
     "end_time": "2025-09-18T03:12:02.672266Z",
     "start_time": "2025-09-18T03:12:02.092572Z"
    }
   },
   "cell_type": "code",
   "source": [
    "import numpy as np\n",
    "import pandas as pd\n",
    "import matplotlib as plt\n",
    "import sklearn\n",
    "\n",
    "print('Importing necessary libraries')"
   ],
   "id": "fbc121e30a2defb3",
   "outputs": [],
   "execution_count": 1
  },
  {
   "metadata": {
    "ExecuteTime": {
     "end_time": "2025-09-18T03:17:35.146730Z",
     "start_time": "2025-09-18T03:17:35.142216Z"
    }
   },
   "cell_type": "code",
   "source": [
    "dataset = sklearn.datasets.load_iris()\n",
    "\n",
    "#print('Dataset loaded: ', dataset.data) #Features: Sepal length, Sepal width, Petal length, and Petal wi\n",
    "#print('Dataset target: ', dataset.target)# The output or label you want to predict\n",
    "#print('Dataset target name', dataset.target_names)# Name of targets"
   ],
   "id": "2cf7eb898073e66d",
   "outputs": [
    {
     "name": "stdout",
     "output_type": "stream",
     "text": [
      "Dataset target:  [0 0 0 0 0 0 0 0 0 0 0 0 0 0 0 0 0 0 0 0 0 0 0 0 0 0 0 0 0 0 0 0 0 0 0 0 0\n",
      " 0 0 0 0 0 0 0 0 0 0 0 0 0 1 1 1 1 1 1 1 1 1 1 1 1 1 1 1 1 1 1 1 1 1 1 1 1\n",
      " 1 1 1 1 1 1 1 1 1 1 1 1 1 1 1 1 1 1 1 1 1 1 1 1 1 1 2 2 2 2 2 2 2 2 2 2 2\n",
      " 2 2 2 2 2 2 2 2 2 2 2 2 2 2 2 2 2 2 2 2 2 2 2 2 2 2 2 2 2 2 2 2 2 2 2 2 2\n",
      " 2 2]\n",
      "Dataset target name ['setosa' 'versicolor' 'virginica']\n"
     ]
    }
   ],
   "execution_count": 5
  }
 ],
 "metadata": {
  "kernelspec": {
   "display_name": "Python 3",
   "language": "python",
   "name": "python3"
  },
  "language_info": {
   "codemirror_mode": {
    "name": "ipython",
    "version": 2
   },
   "file_extension": ".py",
   "mimetype": "text/x-python",
   "name": "python",
   "nbconvert_exporter": "python",
   "pygments_lexer": "ipython2",
   "version": "2.7.6"
  }
 },
 "nbformat": 4,
 "nbformat_minor": 5
}
