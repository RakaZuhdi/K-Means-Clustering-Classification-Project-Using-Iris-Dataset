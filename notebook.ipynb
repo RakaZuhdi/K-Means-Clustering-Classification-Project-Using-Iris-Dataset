{
 "cells": [
  {
   "metadata": {},
   "cell_type": "markdown",
   "source": [
    "# This is a K-Means Classification Project\n",
    "\n",
    "The aim of this project is to use K-Means Clustering algorithm to group Iris Flowers into 3 clusters using just two (sepal length and petal length). After clustering, map each cluster to a class label (setosa, versicolor, and virginica) by majority vote on a small labeled validation split, and report accuracy on a held-out test set.\n",
    "\n",
    "Important: K-Means doesn't use labels to learn. We only use labels after clustering to evaluate and to map clusters -> class names."
   ],
   "id": "8a77807f92f26ee"
  },
  {
   "metadata": {},
   "cell_type": "markdown",
   "source": "Import the necessary libraries:",
   "id": "a1e3643a129f281f"
  },
  {
   "metadata": {
    "ExecuteTime": {
     "end_time": "2025-09-19T03:18:32.125180Z",
     "start_time": "2025-09-19T03:18:32.122553Z"
    }
   },
   "cell_type": "code",
   "source": [
    "import numpy as np\n",
    "import pandas as pd\n",
    "import matplotlib as plt\n",
    "import sklearn\n",
    "from sklearn.model_selection import train_test_split\n",
    "\n",
    "print('Imported necessary libraries')\n"
   ],
   "id": "fbc121e30a2defb3",
   "outputs": [
    {
     "name": "stdout",
     "output_type": "stream",
     "text": [
      "Imported necessary libraries\n"
     ]
    }
   ],
   "execution_count": 58
  },
  {
   "metadata": {},
   "cell_type": "markdown",
   "source": [
    "Split labes into three randomly:\n",
    "- training (60%)\n",
    "- validation (20%)\n",
    "- test (20%)\n",
    "\n"
   ],
   "id": "51c5f172462a21f3"
  },
  {
   "metadata": {
    "ExecuteTime": {
     "end_time": "2025-09-19T03:18:54.925842Z",
     "start_time": "2025-09-19T03:18:54.919684Z"
    }
   },
   "cell_type": "code",
   "source": [
    "dataset = sklearn.datasets.load_iris()\n",
    "\n",
    "X, y = dataset.data, dataset.target\n",
    "\n",
    "#First split\n",
    "X_train, X_temp, y_train, y_temp = train_test_split( #Syntax to split the dataset\n",
    "    X, y, test_size = 0.4, random_state = 42, stratify = y #X (dataset), y (target), test_size (40%), random state (seed, so it keeps the same value when randomized), stratify (keeps the same proportions dependent on the label, which is y)\n",
    ")\n",
    "\n",
    "#Second split\n",
    "X_validation, X_test, y_validation, y_temp = train_test_split(\n",
    "    X_temp, y_temp, test_size = 0.5, random_state = 42, stratify = y_temp\n",
    ")\n",
    "\n",
    "print('Training size: ', len(X_train))\n",
    "print('Validation size: ',len(X_validation))\n",
    "print('Test size: ', len(X_test))\n",
    "\n"
   ],
   "id": "2cf7eb898073e66d",
   "outputs": [
    {
     "name": "stdout",
     "output_type": "stream",
     "text": [
      "Training size:  90\n",
      "Validation size:  30\n",
      "Test size:  30\n"
     ]
    }
   ],
   "execution_count": 60
  },
  {
   "metadata": {},
   "cell_type": "markdown",
   "source": "",
   "id": "d903fde3e189a216"
  }
 ],
 "metadata": {
  "kernelspec": {
   "display_name": "Python 3",
   "language": "python",
   "name": "python3"
  },
  "language_info": {
   "codemirror_mode": {
    "name": "ipython",
    "version": 2
   },
   "file_extension": ".py",
   "mimetype": "text/x-python",
   "name": "python",
   "nbconvert_exporter": "python",
   "pygments_lexer": "ipython2",
   "version": "2.7.6"
  }
 },
 "nbformat": 4,
 "nbformat_minor": 5
}
