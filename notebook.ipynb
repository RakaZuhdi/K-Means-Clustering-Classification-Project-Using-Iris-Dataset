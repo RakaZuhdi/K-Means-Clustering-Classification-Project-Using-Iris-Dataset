{
 "cells": [
  {
   "metadata": {},
   "cell_type": "markdown",
   "source": [
    "# This is a K-Means Classification Project\n",
    "\n",
    "The aim of this project is to use K-Means Clustering algorithm to group Iris Flowers into 3 clusters using just two (sepal length and petal length). After clustering, map each cluster to a class label (setosa, versicolor, and virginica) by majority vote on a small labeled validation split, and report accuracy on a held-out test set.\n",
    "\n",
    "Important: K-Means doesn't use labels to learn. We only use labels after clustering to evaluate and to map clusters -> class names."
   ],
   "id": "8a77807f92f26ee"
  },
  {
   "metadata": {
    "ExecuteTime": {
     "end_time": "2025-09-18T02:32:16.875606Z",
     "start_time": "2025-09-18T02:32:16.873362Z"
    }
   },
   "cell_type": "code",
   "source": [
    "import numpy as np\n",
    "import pandas as pd"
   ],
   "id": "fbc121e30a2defb3",
   "outputs": [
    {
     "name": "stdout",
     "output_type": "stream",
     "text": [
      "Hello World!\n"
     ]
    }
   ],
   "execution_count": 1
  },
  {
   "metadata": {},
   "cell_type": "code",
   "outputs": [],
   "execution_count": null,
   "source": "",
   "id": "d217514b32235da"
  }
 ],
 "metadata": {
  "kernelspec": {
   "display_name": "Python 3",
   "language": "python",
   "name": "python3"
  },
  "language_info": {
   "codemirror_mode": {
    "name": "ipython",
    "version": 2
   },
   "file_extension": ".py",
   "mimetype": "text/x-python",
   "name": "python",
   "nbconvert_exporter": "python",
   "pygments_lexer": "ipython2",
   "version": "2.7.6"
  }
 },
 "nbformat": 4,
 "nbformat_minor": 5
}
